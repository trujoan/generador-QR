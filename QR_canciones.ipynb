{
  "nbformat": 4,
  "nbformat_minor": 0,
  "metadata": {
    "colab": {
      "provenance": [],
      "include_colab_link": true
    },
    "kernelspec": {
      "name": "python3",
      "display_name": "Python 3"
    },
    "language_info": {
      "name": "python"
    }
  },
  "cells": [
    {
      "cell_type": "markdown",
      "metadata": {
        "id": "view-in-github",
        "colab_type": "text"
      },
      "source": [
        "<a href=\"https://colab.research.google.com/github/trujoan/generador-QR/blob/main/QR_canciones.ipynb\" target=\"_parent\"><img src=\"https://colab.research.google.com/assets/colab-badge.svg\" alt=\"Open In Colab\"/></a>"
      ]
    },
    {
      "cell_type": "markdown",
      "source": [
        "Generar imágenes con códigos QR que lleven a la página de un enlace\n",
        "almacenado en una base de datos"
      ],
      "metadata": {
        "id": "RbmVNQ4F6mc_"
      }
    },
    {
      "cell_type": "code",
      "execution_count": null,
      "metadata": {
        "colab": {
          "base_uri": "https://localhost:8080/"
        },
        "id": "A6v5wZ5cbkNX",
        "outputId": "93b07cfe-4e33-400a-fa97-2d9f23410c7b"
      },
      "outputs": [
        {
          "output_type": "stream",
          "name": "stdout",
          "text": [
            "Requirement already satisfied: qrcode in /usr/local/lib/python3.10/dist-packages (8.0)\n",
            "Ingresa el nombre de la cancion (Usar mayusculas al inicio de cada palabra): j\n",
            "Cancion no encontrada\n"
          ]
        }
      ],
      "source": [
        "!pip install qrcode\n",
        "import openpyxl\n",
        "import qrcode\n",
        "from PIL import Image\n",
        "import cv2\n",
        "from google.colab.patches import cv2_imshow\n",
        "\n",
        "\n",
        "#Cargar el archivo Excel y seleccionar la hoja\n",
        "wb = openpyxl.load_workbook('/content/Canciones.xlsx')\n",
        "Hoja = wb['Hoja1']\n",
        "\n",
        "\n",
        "#Crear un diccionario para guardar los nombres de las canciones y sus links respectivos\n",
        "Canciones = {}\n",
        "for fila in Hoja.iter_rows(values_only=True):\n",
        "    nombreCancion = fila[0]\n",
        "    link = fila[1]\n",
        "    Canciones[nombreCancion] = link\n",
        "\n",
        "#Preguntar por el nombre de la cancion\n",
        "cancionInsertada=input(\"Ingresa el nombre de la cancion (Usar mayusculas al inicio de cada palabra): \")\n",
        "\n",
        "  #Verificar si el nombre ingresado se encuentra en el excel\n",
        "if cancionInsertada in Canciones:\n",
        "    link = Canciones[cancionInsertada]\n",
        "    print(f\"Cancion encontrada: {cancionInsertada} link: {link}\")\n",
        "\n",
        "    #Generar un codigo QR con el link\n",
        "    qr = qrcode.QRCode(\n",
        "        version=1,\n",
        "        error_correction=qrcode.constants.ERROR_CORRECT_L,\n",
        "        box_size=10,\n",
        "        border=4,\n",
        "    )\n",
        "    qr.add_data(link)\n",
        "    qr.make(fit=True)\n",
        "\n",
        "    #Crear una imagen con el código\n",
        "    img = qr.make_image(fill=\"black\", back_color=\"white\")\n",
        "    img.save(f\"{cancionInsertada}.png\")\n",
        "    print(f\"Código QR guardado como {cancionInsertada}.png\")\n",
        "\n",
        "    #Mostrar la imagen del QR\n",
        "    cv2_imshow(cv2.imread(f\"{cancionInsertada}.png\"))\n",
        "else:\n",
        "    print(\"Cancion no encontrada\")"
      ]
    }
  ]
}